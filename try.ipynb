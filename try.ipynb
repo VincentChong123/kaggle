{
 "cells": [
  {
   "cell_type": "code",
   "execution_count": null,
   "metadata": {},
   "outputs": [],
   "source": [
    "import os\n",
    "DEVMODE = os.getenv(\"KAGGLE_MODE\") == \"DEV\"\n",
    "print(f\"DEV MODE: {DEVMODE}\")\n",
    "EPOCHS = 2 if DEVMODE else 30"
   ]
  }
 ],
 "metadata": {
  "language_info": {
   "name": "python"
  },
  "orig_nbformat": 4
 },
 "nbformat": 4,
 "nbformat_minor": 2
}
